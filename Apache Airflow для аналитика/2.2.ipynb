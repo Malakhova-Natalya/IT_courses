{
 "cells": [
  {
   "cell_type": "markdown",
   "id": "59953720",
   "metadata": {},
   "source": [
    "# Apache Airflow для аналитика: Проектная работа №0"
   ]
  },
  {
   "cell_type": "markdown",
   "id": "91687d51",
   "metadata": {
    "toc": true
   },
   "source": [
    "<h1>Содержание<span class=\"tocSkip\"></span></h1>\n",
    "<div class=\"toc\"><ul class=\"toc-item\"></ul></div>"
   ]
  },
  {
   "cell_type": "code",
   "execution_count": 1,
   "id": "640edbaf",
   "metadata": {},
   "outputs": [],
   "source": [
    "# Импорт необходимых библиотек\n",
    "import pandas as pd\n",
    "import datetime as dt\n",
    "import sqlite3"
   ]
  },
  {
   "cell_type": "code",
   "execution_count": 2,
   "id": "85e4564e",
   "metadata": {},
   "outputs": [],
   "source": [
    "# Создадим базу данных с которой будем работать\n",
    "CON = sqlite3.connect('sqlite3.db')"
   ]
  },
  {
   "cell_type": "code",
   "execution_count": 13,
   "id": "e33c98a7",
   "metadata": {},
   "outputs": [],
   "source": [
    "# Напишите функцию которая скачивает данные с гитхаба\n",
    "# Функция принимает на вход дату\n",
    "# Функция должна вернуть список словарей или датафрейм, можно(лучше) использовать можно использоват pandas.read_csv()\n",
    "\n",
    "# С помощью этой функции вы считаете данные по 2 ссылкам\n",
    "# ссылка на гитхаб с курсами валют - https://github.com/datanlnja/airflow_course/tree/main/excangerate\n",
    "# ссылка на гитхаб с данными о продажах - https://github.com/datanlnja/airflow_course/tree/main/data\n",
    "\n",
    "# сырые данные о курсах валют - пример - \n",
    "# https://raw.githubusercontent.com/datanlnja/airflow_course/main/excangerate/2021-01-01.csv\n",
    "# сырые данные с данными о продажах - пример - \n",
    "# https://raw.githubusercontent.com/datanlnja/airflow_course/main/data/2021-01-01.csv\n",
    "\n",
    "def extract_data(url, date):\n",
    "  final_url = url+ date+ '.csv'\n",
    "  return pd.read_csv(final_url)"
   ]
  },
  {
   "cell_type": "code",
   "execution_count": 4,
   "id": "99ba9de9",
   "metadata": {},
   "outputs": [],
   "source": [
    "# Напишите функцию которая принимает на вход список словарей, или пандас датафрейм\n",
    "# и загружает в табличку в sqlite, можно использоват pandas.to_sql()\n",
    "\n",
    "def insert_to_db(data, table_name, conn):\n",
    "  #data[\"insert_time\"] = pd.to_datetime(\"now\")\n",
    "  data.to_sql(table_name, conn, if_exists='append', index=False)"
   ]
  },
  {
   "cell_type": "code",
   "execution_count": 5,
   "id": "afd5cdc3",
   "metadata": {},
   "outputs": [],
   "source": [
    "# Напишите функцию которая объединит данные по ключу или паре ключей\n",
    "# На выходе возвращает данные, рекомендую использовать pandas.DataFrame\n",
    "\n",
    "def merge_data(data1, data2):\n",
    "  return data1.merge(data2, on='date')"
   ]
  },
  {
   "cell_type": "code",
   "execution_count": 7,
   "id": "81c6bc76",
   "metadata": {},
   "outputs": [
    {
     "name": "stdout",
     "output_type": "stream",
     "text": [
      "         date currency_from currency_to  amount currency  value\n",
      "0  2021-01-01           eur         usd    1.21      EUR     38\n",
      "1  2021-01-01           eur         usd    1.21      EUR     65\n",
      "2  2021-01-01           eur         usd    1.21      EUR     74\n",
      "3  2021-01-01           eur         usd    1.21      EUR     42\n",
      "4  2021-01-01           eur         usd    1.21      EUR     23\n",
      "5  2021-01-01           eur         usd    1.21      EUR     48\n",
      "6  2021-01-01           eur         usd    1.21      EUR     86\n",
      "7  2021-01-01           eur         usd    1.21      EUR     74\n",
      "8  2021-01-01           eur         usd    1.21      EUR     24\n",
      "         date currency_from currency_to  amount currency  value\n",
      "0  2021-01-02           eur         usd    1.22      EUR     27\n",
      "1  2021-01-02           eur         usd    1.22      EUR     71\n",
      "2  2021-01-02           eur         usd    1.22      EUR     39\n",
      "3  2021-01-02           eur         usd    1.22      EUR     94\n",
      "4  2021-01-02           eur         usd    1.22      EUR     45\n",
      "5  2021-01-02           eur         usd    1.22      EUR      3\n",
      "6  2021-01-02           eur         usd    1.22      EUR     49\n",
      "7  2021-01-02           eur         usd    1.22      EUR     96\n",
      "8  2021-01-02           eur         usd    1.22      EUR     36\n",
      "         date currency_from currency_to  amount currency  value\n",
      "0  2021-01-03           eur         usd    1.22      EUR    100\n",
      "1  2021-01-03           eur         usd    1.22      EUR     93\n",
      "2  2021-01-03           eur         usd    1.22      EUR     56\n",
      "3  2021-01-03           eur         usd    1.22      EUR     40\n",
      "4  2021-01-03           eur         usd    1.22      EUR     23\n",
      "5  2021-01-03           eur         usd    1.22      EUR      2\n",
      "6  2021-01-03           eur         usd    1.22      EUR     23\n",
      "7  2021-01-03           eur         usd    1.22      EUR     35\n",
      "8  2021-01-03           eur         usd    1.22      EUR     41\n",
      "         date currency_from currency_to  amount currency  value\n",
      "0  2021-01-04           eur         usd    1.22      EUR     20\n",
      "1  2021-01-04           eur         usd    1.22      EUR     90\n",
      "2  2021-01-04           eur         usd    1.22      EUR     38\n",
      "3  2021-01-04           eur         usd    1.22      EUR     88\n",
      "4  2021-01-04           eur         usd    1.22      EUR     57\n",
      "5  2021-01-04           eur         usd    1.22      EUR     39\n",
      "6  2021-01-04           eur         usd    1.22      EUR     51\n",
      "7  2021-01-04           eur         usd    1.22      EUR     33\n",
      "8  2021-01-04           eur         usd    1.22      EUR     68\n"
     ]
    }
   ],
   "source": [
    "# Запустите ваш код в функции main\n",
    "\n",
    "# Напишите генерацию дат, так чтобы у вас получился список\n",
    "# 2021-01-02, 2021-01-03 ... etc\n",
    "# Нужны даты с 2021-01-01 по 2021-01-04\n",
    "\n",
    "start_date = dt.datetime(2021, 1, 1)\n",
    "end_date = dt.datetime(2021, 1, 4)\n",
    "dates_list = pd.date_range(\n",
    "    min(start_date, end_date),\n",
    "    max(start_date, end_date)\n",
    ").strftime('%Y-%m-%d').tolist()\n",
    "\n",
    "def main(date, conn):\n",
    "\n",
    "  # Выгружаем данные по валютам и из источника\n",
    "  currency = extract_data('https://raw.githubusercontent.com/datanlnja/airflow_course/main/excangerate/', date)\n",
    "  data = extract_data('https://raw.githubusercontent.com/datanlnja/airflow_course/main/data/', date)\n",
    "\n",
    "  # Объедините данные в 1 таблицу\n",
    "  mg_data = merge_data(currency, data)\n",
    "  print(mg_data)\n",
    "  # Вставляем данные в БД в таблицу data\n",
    "  insert_to_db(mg_data, 'my_data', conn=CON)\n",
    "\n",
    "# Пройдемся по списку дат и выполним скрипт\n",
    "for date in dates_list:\n",
    "  main(date, CON)"
   ]
  },
  {
   "cell_type": "code",
   "execution_count": 12,
   "id": "9e2c5a87",
   "metadata": {
    "scrolled": true
   },
   "outputs": [
    {
     "name": "stdout",
     "output_type": "stream",
     "text": [
      "('2021-01-01', 'eur', 'usd', 1.21, 'EUR', 38)\n",
      "('2021-01-01', 'eur', 'usd', 1.21, 'EUR', 65)\n",
      "('2021-01-01', 'eur', 'usd', 1.21, 'EUR', 74)\n",
      "('2021-01-01', 'eur', 'usd', 1.21, 'EUR', 42)\n",
      "('2021-01-01', 'eur', 'usd', 1.21, 'EUR', 23)\n",
      "('2021-01-01', 'eur', 'usd', 1.21, 'EUR', 48)\n",
      "('2021-01-01', 'eur', 'usd', 1.21, 'EUR', 86)\n",
      "('2021-01-01', 'eur', 'usd', 1.21, 'EUR', 74)\n",
      "('2021-01-01', 'eur', 'usd', 1.21, 'EUR', 24)\n",
      "('2021-01-02', 'eur', 'usd', 1.22, 'EUR', 27)\n",
      "('2021-01-02', 'eur', 'usd', 1.22, 'EUR', 71)\n",
      "('2021-01-02', 'eur', 'usd', 1.22, 'EUR', 39)\n",
      "('2021-01-02', 'eur', 'usd', 1.22, 'EUR', 94)\n",
      "('2021-01-02', 'eur', 'usd', 1.22, 'EUR', 45)\n",
      "('2021-01-02', 'eur', 'usd', 1.22, 'EUR', 3)\n",
      "('2021-01-02', 'eur', 'usd', 1.22, 'EUR', 49)\n",
      "('2021-01-02', 'eur', 'usd', 1.22, 'EUR', 96)\n",
      "('2021-01-02', 'eur', 'usd', 1.22, 'EUR', 36)\n",
      "('2021-01-03', 'eur', 'usd', 1.22, 'EUR', 100)\n",
      "('2021-01-03', 'eur', 'usd', 1.22, 'EUR', 93)\n",
      "('2021-01-03', 'eur', 'usd', 1.22, 'EUR', 56)\n",
      "('2021-01-03', 'eur', 'usd', 1.22, 'EUR', 40)\n",
      "('2021-01-03', 'eur', 'usd', 1.22, 'EUR', 23)\n",
      "('2021-01-03', 'eur', 'usd', 1.22, 'EUR', 2)\n",
      "('2021-01-03', 'eur', 'usd', 1.22, 'EUR', 23)\n",
      "('2021-01-03', 'eur', 'usd', 1.22, 'EUR', 35)\n",
      "('2021-01-03', 'eur', 'usd', 1.22, 'EUR', 41)\n",
      "('2021-01-04', 'eur', 'usd', 1.22, 'EUR', 20)\n",
      "('2021-01-04', 'eur', 'usd', 1.22, 'EUR', 90)\n",
      "('2021-01-04', 'eur', 'usd', 1.22, 'EUR', 38)\n",
      "('2021-01-04', 'eur', 'usd', 1.22, 'EUR', 88)\n",
      "('2021-01-04', 'eur', 'usd', 1.22, 'EUR', 57)\n",
      "('2021-01-04', 'eur', 'usd', 1.22, 'EUR', 39)\n",
      "('2021-01-04', 'eur', 'usd', 1.22, 'EUR', 51)\n",
      "('2021-01-04', 'eur', 'usd', 1.22, 'EUR', 33)\n",
      "('2021-01-04', 'eur', 'usd', 1.22, 'EUR', 68)\n",
      "[(2229.08,)]\n"
     ]
    }
   ],
   "source": [
    "# чтобы проверить решение можете обратиться к вашей базе данных таким образом\n",
    "\n",
    "import sqlite3\n",
    "\n",
    "# Создаем подключение к базе данных\n",
    "conn = sqlite3.connect('sqlite3.db')\n",
    "\n",
    "# Создаем курсор для выполнения SQL-запросов\n",
    "cursor = conn.cursor()\n",
    "\n",
    "# Выполняем запрос к таблице\n",
    "cursor.execute(\"SELECT * FROM my_data\")\n",
    "\n",
    "# Извлекаем все строки из результата запроса\n",
    "rows = cursor.fetchall()\n",
    "\n",
    "# Выводим результаты\n",
    "for row in rows:\n",
    "    print(row)\n",
    "\n",
    "# Выполняем запрос к таблице\n",
    "cursor.execute(\"SELECT sum(amount*value) FROM my_data\")\n",
    "\n",
    "# Извлекаем все строки из результата запроса\n",
    "row = cursor.fetchall()\n",
    "\n",
    "# Выводим результат\n",
    "print(row)\n",
    "    \n",
    "# Закрываем соединение\n",
    "conn.close()"
   ]
  },
  {
   "cell_type": "markdown",
   "id": "193adb90",
   "metadata": {},
   "source": [
    "Ответ: 2229.08\n",
    "\n",
    "\n",
    "Ссылка на Google Collab: https://colab.research.google.com/drive/1qPknxS-lxj6Z_W6_iK6jp08RVWltagAs#scrollTo=oKOYD6FjsRGt"
   ]
  },
  {
   "cell_type": "markdown",
   "id": "d3806e43",
   "metadata": {},
   "source": [
    "\n",
    "_____________________________________________________________________________________________________________________________\n",
    "Проектную работу выполнила: аналитик данных Малахова Наталья\n",
    "\n",
    "Мой телеграм-канал: [Дневник аналитика](https://t.me/diary_musician_analyst \"Дневник аналитика\")\n",
    "\n",
    "GitHub: [GitHub](https://github.com/Malakhova-Natalya \"GitHub\")\n",
    "\n",
    "Habr: [Habr](https://habr.com/ru/users/Malakhova-Natalya/publications/articles/ \"Habr\")\n",
    "\n",
    "Спасибо за внимание!"
   ]
  }
 ],
 "metadata": {
  "kernelspec": {
   "display_name": "Python 3 (ipykernel)",
   "language": "python",
   "name": "python3"
  },
  "language_info": {
   "codemirror_mode": {
    "name": "ipython",
    "version": 3
   },
   "file_extension": ".py",
   "mimetype": "text/x-python",
   "name": "python",
   "nbconvert_exporter": "python",
   "pygments_lexer": "ipython3",
   "version": "3.9.7"
  },
  "toc": {
   "base_numbering": 1,
   "nav_menu": {},
   "number_sections": true,
   "sideBar": true,
   "skip_h1_title": true,
   "title_cell": "Содержание",
   "title_sidebar": "Содержание",
   "toc_cell": true,
   "toc_position": {},
   "toc_section_display": true,
   "toc_window_display": false
  }
 },
 "nbformat": 4,
 "nbformat_minor": 5
}
