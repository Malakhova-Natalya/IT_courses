{
 "cells": [
  {
   "cell_type": "markdown",
   "id": "59953720",
   "metadata": {},
   "source": [
    "# Apache Airflow для аналитика"
   ]
  },
  {
   "cell_type": "markdown",
   "id": "65880c6a",
   "metadata": {},
   "source": [
    "# 3.4 Подробнее про код: xcom, контекст: Практика"
   ]
  },
  {
   "cell_type": "markdown",
   "id": "e50ec376",
   "metadata": {},
   "source": [
    "Выведем контекст в Log. Для решения нужно запустить данный даг и найти вкладку **Admin->XComs**."
   ]
  },
  {
   "cell_type": "code",
   "execution_count": null,
   "id": "4d31c9de",
   "metadata": {},
   "outputs": [],
   "source": [
    "from airflow import DAG\n",
    "from datetime import timedelta\n",
    "from airflow.utils.dates import days_ago\n",
    "from airflow.operators.python_operator import PythonOperator\n",
    "\n",
    "dag = DAG('dag',schedule_interval=timedelta(days=1), start_date=days_ago(1))\n",
    "\n",
    "def print_context(**context):\n",
    "    context['ti'].xcom_push(key='context_len', value=str(context))\n",
    "\n",
    "run_this = PythonOperator(\n",
    "    task_id='print_the_context',\n",
    "    python_callable=print_context,\n",
    "    dag=dag,\n",
    ")"
   ]
  },
  {
   "cell_type": "markdown",
   "id": "fae4c4f7",
   "metadata": {},
   "source": [
    "В качестве ответа - текст контекста, который попал в Xcom:"
   ]
  },
  {
   "cell_type": "markdown",
   "id": "18452ee1",
   "metadata": {},
   "source": [
    "{'conf': <airflow.configuration.AirflowConfigParser object at 0x7fafaafd5c10>, 'dag': <DAG: dag>, 'dag_run': <DagRun dag @ 2024-02-25 00:00:00+00:00: scheduled__2024-02-25T00:00:00+00:00, state:running, queued_at: 2024-02-26 10:48:01.726959+00:00. externally triggered: False>, 'data_interval_end': DateTime(2024, 2, 26, 0, 0, 0, tzinfo=Timezone('UTC')), 'data_interval_start': DateTime(2024, 2, 25, 0, 0, 0, tzinfo=Timezone('UTC')), 'ds': '2024-02-25', 'ds_nodash': '20240225', 'execution_date': <Proxy at 0x7fafa02e29c0 with factory functools.partial(<function lazy_mapping_from_context.<locals>._deprecated_proxy_factory at 0x7fafa02e1a60>, 'execution_date', DateTime(2024, 2, 25, 0, 0, 0, tzinfo=Timezone('UTC')))>, 'expanded_ti_count': None, 'inlets': [], 'logical_date': DateTime(2024, 2, 25, 0, 0, 0, tzinfo=Timezone('UTC')), 'macros': <module 'airflow.macros' from '/home/airflow/.local/lib/python3.9/site-packages/airflow/macros/__init__.py'>, 'next_ds': <Proxy at 0x7fafa02e2b40 with factory functools.partial(<function lazy_mapping_from_context.<locals>._deprecated_proxy_factory at 0x7fafa02e1a60>, 'next_ds', '2024-02-26')>, 'next_ds_nodash': <Proxy at 0x7fafa0429640 with factory functools.partial(<function lazy_mapping_from_context.<locals>._deprecated_proxy_factory at 0x7fafa02e1a60>, 'next_ds_nodash', '20240226')>, 'next_execution_date': <Proxy at 0x7fafa03d5e00 with factory functools.partial(<function lazy_mapping_from_context.<locals>._deprecated_proxy_factory at 0x7fafa02e1a60>, 'next_execution_date', DateTime(2024, 2, 26, 0, 0, 0, tzinfo=Timezone('UTC')))>, 'outlets': [], 'params': {}, 'prev_data_interval_start_success': None, 'prev_data_interval_end_success': None, 'prev_ds': <Proxy at 0x7fafa03d5840 with factory functools.partial(<function lazy_mapping_from_context.<locals>._deprecated_proxy_factory at 0x7fafa02e1a60>, 'prev_ds', '2024-02-24')>, 'prev_ds_nodash': <Proxy at 0x7fafa02ad440 with factory functools.partial(<function lazy_mapping_from_context.<locals>._deprecated_proxy_factory at 0x7fafa02e1a60>, 'prev_ds_nodash', '20240224')>, 'prev_execution_date': <Proxy at 0x7fafa02ad400 with factory functools.partial(<function lazy_mapping_from_context.<locals>._deprecated_proxy_factory at 0x7fafa02e1a60>, 'prev_execution_date', DateTime(2024, 2, 24, 0, 0, 0, tzinfo=Timezone('UTC')))>, 'prev_execution_date_success': <Proxy at 0x7fafa02ad3c0 with factory functools.partial(<function lazy_mapping_from_context.<locals>._deprecated_proxy_factory at 0x7fafa02e1a60>, 'prev_execution_date_success', None)>, 'prev_start_date_success': None, 'prev_end_date_success': None, 'run_id': 'scheduled__2024-02-25T00:00:00+00:00', 'task': <Task(PythonOperator): print_the_context>, 'task_instance': <TaskInstance: dag.print_the_context scheduled__2024-02-25T00:00:00+00:00 [running]>, 'task_instance_key_str': 'dag__print_the_context__20240225', 'test_mode': False, 'ti': <TaskInstance: dag.print_the_context scheduled__2024-02-25T00:00:00+00:00 [running]>, 'tomorrow_ds': <Proxy at 0x7fafa02ad380 with factory functools.partial(<function lazy_mapping_from_context.<locals>._deprecated_proxy_factory at 0x7fafa02e1a60>, 'tomorrow_ds', '2024-02-26')>, 'tomorrow_ds_nodash': <Proxy at 0x7fafa02ad340 with factory functools.partial(<function lazy_mapping_from_context.<locals>._deprecated_proxy_factory at 0x7fafa02e1a60>, 'tomorrow_ds_nodash', '20240226')>, 'triggering_dataset_events': <Proxy at 0x7fafa02e9b80 with factory <function _get_template_context.<locals>.get_triggering_events at 0x7fafa02e1940>>, 'ts': '2024-02-25T00:00:00+00:00', 'ts_nodash': '20240225T000000', 'ts_nodash_with_tz': '20240225T000000+0000', 'var': {'json': None, 'value': None}, 'conn': None, 'yesterday_ds': <Proxy at 0x7fafa02ad300 with factory functools.partial(<function lazy_mapping_from_context.<locals>._deprecated_proxy_factory at 0x7fafa02e1a60>, 'yesterday_ds', '2024-02-24')>, 'yesterday_ds_nodash': <Proxy at 0x7fafa02ad2c0 with factory functools.partial(<function lazy_mapping_from_context.<locals>._deprecated_proxy_factory at 0x7fafa02e1a60>, 'yesterday_ds_nodash', '20240224')>, 'templates_dict': None}"
   ]
  },
  {
   "cell_type": "markdown",
   "id": "c587014f",
   "metadata": {},
   "source": [
    "Напишите функцию, только с Jinja выражением, которая выводит четную последовательность от 1 до N-1. Пробел между цифрами одиночный!"
   ]
  },
  {
   "cell_type": "code",
   "execution_count": 5,
   "id": "69e75231",
   "metadata": {},
   "outputs": [
    {
     "name": "stdout",
     "output_type": "stream",
     "text": [
      "10\n",
      "2 4 6 8 \n"
     ]
    }
   ],
   "source": [
    "from jinja2 import Template\n",
    "x = int(input())\n",
    "t = Template(\"{% for n in range(2, x-1, 2) %}{{n}} \" \"{% endfor %}\")\n",
    "print(t.render(x=x))"
   ]
  },
  {
   "cell_type": "markdown",
   "id": "d3806e43",
   "metadata": {},
   "source": [
    "\n",
    "_____________________________________________________________________________________________________________________________\n",
    "Проектную работу выполнила: аналитик данных Малахова Наталья\n",
    "\n",
    "Мой телеграм-канал: [Дневник аналитика](https://t.me/diary_musician_analyst \"Дневник аналитика\")\n",
    "\n",
    "GitHub: [GitHub](https://github.com/Malakhova-Natalya \"GitHub\")\n",
    "\n",
    "Habr: [Habr](https://habr.com/ru/users/Malakhova-Natalya/publications/articles/ \"Habr\")\n",
    "\n",
    "Спасибо за внимание!"
   ]
  }
 ],
 "metadata": {
  "kernelspec": {
   "display_name": "Python 3 (ipykernel)",
   "language": "python",
   "name": "python3"
  },
  "language_info": {
   "codemirror_mode": {
    "name": "ipython",
    "version": 3
   },
   "file_extension": ".py",
   "mimetype": "text/x-python",
   "name": "python",
   "nbconvert_exporter": "python",
   "pygments_lexer": "ipython3",
   "version": "3.9.7"
  },
  "toc": {
   "base_numbering": 1,
   "nav_menu": {},
   "number_sections": false,
   "sideBar": false,
   "skip_h1_title": false,
   "title_cell": "Содержание",
   "title_sidebar": "Содержание",
   "toc_cell": false,
   "toc_position": {},
   "toc_section_display": false,
   "toc_window_display": false
  }
 },
 "nbformat": 4,
 "nbformat_minor": 5
}
