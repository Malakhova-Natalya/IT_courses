{
 "cells": [
  {
   "cell_type": "markdown",
   "id": "59953720",
   "metadata": {},
   "source": [
    "# Apache Airflow для аналитика"
   ]
  },
  {
   "cell_type": "markdown",
   "id": "65880c6a",
   "metadata": {},
   "source": [
    "# 3.4 Подробнее про код: xcom, контекст: Практика"
   ]
  },
  {
   "cell_type": "markdown",
   "id": "2c199dfa",
   "metadata": {},
   "source": [
    "### Xcom"
   ]
  },
  {
   "cell_type": "markdown",
   "id": "610d3cbf",
   "metadata": {},
   "source": [
    "Вставьте следующий код в dag.py, после исполните его в вебе и перейдите на вкладку Admins->Xcom\n",
    "\n",
    "**Задание #1**\n",
    "\n",
    "Укажите то что написано в поле Task Id"
   ]
  },
  {
   "cell_type": "code",
   "execution_count": null,
   "id": "b138787b",
   "metadata": {},
   "outputs": [],
   "source": [
    "import airflow\n",
    "from airflow import DAG\n",
    "from airflow.utils.dates import days_ago\n",
    "from airflow.operators.python_operator import PythonOperator\n",
    "\n",
    "args = {'owner': 'airflow', 'start_date': days_ago(1), 'provide_context': True }\n",
    "dag = DAG('dag',schedule_interval='@once', default_args=args)\n",
    "\n",
    "value_2 = {'a': 'b'}\n",
    "\n",
    "def push(**kwargs):\n",
    "    kwargs['ti'].xcom_push(key='key', value=value_2)\n",
    "\n",
    "def pull(**kwargs):\n",
    "    print(kwargs['ti'].xcom_pull(key='key', task_ids='push'))\n",
    "\n",
    "push1 = PythonOperator(\n",
    "    task_id='push', dag=dag, python_callable=push)\n",
    "pull1 = PythonOperator(\n",
    "    task_id='pull', dag=dag, python_callable=pull)\n",
    "\n",
    "push1 >> pull1"
   ]
  },
  {
   "cell_type": "markdown",
   "id": "27496a8c",
   "metadata": {},
   "source": [
    "**Решение:**"
   ]
  },
  {
   "cell_type": "markdown",
   "id": "06412f65",
   "metadata": {},
   "source": [
    "push"
   ]
  },
  {
   "cell_type": "markdown",
   "id": "5c8a1635",
   "metadata": {},
   "source": [
    "### Запрос в БД к таблице Xcom"
   ]
  },
  {
   "cell_type": "markdown",
   "id": "7a35392b",
   "metadata": {},
   "source": [
    "Обратимся к Xcom чтобы убедиться что это простая таблица с несколькими полями\n",
    "\n",
    "**Задание #2**\n",
    "\n",
    "Вставьте путь до базы данных в качестве ответа"
   ]
  },
  {
   "cell_type": "code",
   "execution_count": null,
   "id": "e4881980",
   "metadata": {},
   "outputs": [],
   "source": [
    "import sqlite3\n",
    "\n",
    "# Создаем подключение к базе данных\n",
    "conn = sqlite3.connect('/root/airflow/airflow.db')\n",
    "\n",
    "# Создаем курсор для выполнения SQL-запросов\n",
    "cursor = conn.cursor()\n",
    "\n",
    "# Выполняем запрос к таблице\n",
    "cursor.execute(\"select * from xcom\")\n",
    "\n",
    "# Извлекаем все строки из результата запроса\n",
    "rows = cursor.fetchall()\n",
    "\n",
    "# Выводим результаты\n",
    "for row in rows:\n",
    "    print(row)"
   ]
  },
  {
   "cell_type": "markdown",
   "id": "1b04c91a",
   "metadata": {},
   "source": [
    "**Решение:**"
   ]
  },
  {
   "cell_type": "markdown",
   "id": "12c36694",
   "metadata": {},
   "source": [
    "/root/airflow/airflow.db"
   ]
  },
  {
   "cell_type": "markdown",
   "id": "d3806e43",
   "metadata": {},
   "source": [
    "\n",
    "_____________________________________________________________________________________________________________________________\n",
    "Проектную работу выполнила: аналитик данных Малахова Наталья\n",
    "\n",
    "Мой телеграм-канал: [Дневник аналитика](https://t.me/diary_musician_analyst \"Дневник аналитика\")\n",
    "\n",
    "GitHub: [GitHub](https://github.com/Malakhova-Natalya \"GitHub\")\n",
    "\n",
    "Habr: [Habr](https://habr.com/ru/users/Malakhova-Natalya/publications/articles/ \"Habr\")\n",
    "\n",
    "Спасибо за внимание!"
   ]
  }
 ],
 "metadata": {
  "kernelspec": {
   "display_name": "Python 3 (ipykernel)",
   "language": "python",
   "name": "python3"
  },
  "language_info": {
   "codemirror_mode": {
    "name": "ipython",
    "version": 3
   },
   "file_extension": ".py",
   "mimetype": "text/x-python",
   "name": "python",
   "nbconvert_exporter": "python",
   "pygments_lexer": "ipython3",
   "version": "3.9.7"
  },
  "toc": {
   "base_numbering": 1,
   "nav_menu": {},
   "number_sections": false,
   "sideBar": false,
   "skip_h1_title": false,
   "title_cell": "Содержание",
   "title_sidebar": "Содержание",
   "toc_cell": false,
   "toc_position": {},
   "toc_section_display": false,
   "toc_window_display": false
  }
 },
 "nbformat": 4,
 "nbformat_minor": 5
}
