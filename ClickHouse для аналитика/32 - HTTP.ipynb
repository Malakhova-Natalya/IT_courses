{
 "cells": [
  {
   "cell_type": "markdown",
   "id": "dfed1c31",
   "metadata": {},
   "source": [
    "# ClickHouse для аналитика"
   ]
  },
  {
   "cell_type": "markdown",
   "id": "b778aa62",
   "metadata": {},
   "source": [
    "## 6.1 Интерфейсы доступа: HTTP"
   ]
  },
  {
   "cell_type": "markdown",
   "id": "5f924aa9",
   "metadata": {},
   "source": [
    "### Описание задачи"
   ]
  },
  {
   "cell_type": "markdown",
   "id": "af17c198",
   "metadata": {},
   "source": [
    "**Описание задачи:**\n",
    "\n",
    "В данном уроке вам предстоит загрузить в Clickhouse [CSV файл]( https://stepik.org/media/attachments/course/100210/csvjson.csv ) с помощью Python или же командной строки! У вас есть право выбора что лучше использовать. Однако записать файл можно только через HTTP протокол.\n",
    "\n",
    "**Формат ответа:**\n",
    "\n",
    "В качестве ответа прислать sum(value) - округлить до целых в любую сторону"
   ]
  },
  {
   "cell_type": "markdown",
   "id": "a91f5154",
   "metadata": {},
   "source": [
    "### Решение"
   ]
  },
  {
   "cell_type": "markdown",
   "id": "4428adaf",
   "metadata": {},
   "source": [
    "Подключение:"
   ]
  },
  {
   "cell_type": "code",
   "execution_count": 1,
   "id": "0aab7d3e",
   "metadata": {},
   "outputs": [],
   "source": [
    "import requests\n",
    "\n",
    "# Определяем параметры подключения к ClickHouse\n",
    "url = 'http://localhost:8123/'"
   ]
  },
  {
   "cell_type": "markdown",
   "id": "834b4ba1",
   "metadata": {},
   "source": [
    "Создаём таблицу:"
   ]
  },
  {
   "cell_type": "code",
   "execution_count": 2,
   "id": "227fda62",
   "metadata": {},
   "outputs": [
    {
     "name": "stdout",
     "output_type": "stream",
     "text": [
      "Таблица успешно создана\n"
     ]
    }
   ],
   "source": [
    "# Определяем запрос на создание таблицы \n",
    "create_table_query = f\"CREATE TABLE my_table_http (id Int64, name String, value Float64, is_active Bool, key String, list Array(Int64)) ENGINE = Log\"\n",
    "\n",
    "# Отправляем запрос на создание таблицы\n",
    "response = requests.post(url, params={'query': create_table_query, \"user\": \"default\", \"password\":''})\n",
    "\n",
    "# Проверяем статус-код ответа\n",
    "if response.status_code == 200:\n",
    "    print('Таблица успешно создана')\n",
    "else:\n",
    "    print(f'Ошибка при создании таблицы: {response.text}')"
   ]
  },
  {
   "cell_type": "markdown",
   "id": "97167949",
   "metadata": {},
   "source": [
    "Вставляем данные в эту таблицу:"
   ]
  },
  {
   "cell_type": "code",
   "execution_count": 3,
   "id": "b578d20f",
   "metadata": {},
   "outputs": [
    {
     "name": "stdout",
     "output_type": "stream",
     "text": [
      "Данные вставились\n"
     ]
    }
   ],
   "source": [
    "# Определяем запрос на вставку данных\n",
    "insert_query = \"INSERT INTO my_table_http SELECT * FROM url('https://stepik.org/media/attachments/course/100210/csvjson.csv', CSV, 'id Int64, name String, value Float64, is_active Bool, key String, list Array(Int64)')\"\n",
    "\n",
    "\n",
    "# Отправляем запрос на создание таблицы\n",
    "response = requests.post(url, params={'query': insert_query, \"user\": \"default\", \"password\": ''})\n",
    "\n",
    "# Проверяем статус-код ответа\n",
    "if response.status_code == 200:\n",
    "    print('Данные вставились')\n",
    "else:\n",
    "    print(f'Ошибка вставки: {response.text}')"
   ]
  },
  {
   "cell_type": "markdown",
   "id": "a6a72af3",
   "metadata": {},
   "source": [
    "Запрос, который выводит результат:"
   ]
  },
  {
   "cell_type": "code",
   "execution_count": 5,
   "id": "4dfb60d4",
   "metadata": {},
   "outputs": [
    {
     "name": "stdout",
     "output_type": "stream",
     "text": [
      "50\n",
      "\n"
     ]
    }
   ],
   "source": [
    "# Определяем запрос \n",
    "select_query = f\"SELECT toInt64(sum(value)) FROM my_table_http\"\n",
    "\n",
    "\n",
    "# Отправляем запрос\n",
    "response = requests.post(url, params={'query': select_query, \"user\": \"default\", \"password\": ''})\n",
    "\n",
    "# Проверяем статус-код ответа\n",
    "if response.status_code == 200:\n",
    "    print(response.text)\n",
    "else:\n",
    "    print(f'Ошибка вставки: {response.text}')"
   ]
  },
  {
   "cell_type": "markdown",
   "id": "d3806e43",
   "metadata": {},
   "source": [
    "___________________________________________________________________________________________________________________________\n",
    "Заметки вела: аналитик данных Малахова Наталья\n",
    "\n",
    "Мой телеграм-канал: [Дневник аналитика](https://t.me/diary_musician_analyst \"Дневник аналитика\")\n",
    "\n",
    "Портфолио: [GitHub](https://github.com/Malakhova-Natalya \"GitHub\")\n",
    "\n",
    "Хабр: [Habr](https://habr.com/ru/users/Malakhova-Natalya/publications/articles/ \"Habr\")\n",
    "\n",
    "\n",
    "Спасибо за внимание!"
   ]
  }
 ],
 "metadata": {
  "kernelspec": {
   "display_name": "Python 3 (ipykernel)",
   "language": "python",
   "name": "python3"
  },
  "language_info": {
   "codemirror_mode": {
    "name": "ipython",
    "version": 3
   },
   "file_extension": ".py",
   "mimetype": "text/x-python",
   "name": "python",
   "nbconvert_exporter": "python",
   "pygments_lexer": "ipython3",
   "version": "3.9.7"
  },
  "toc": {
   "base_numbering": 1,
   "nav_menu": {},
   "number_sections": true,
   "sideBar": true,
   "skip_h1_title": true,
   "title_cell": "Содержание",
   "title_sidebar": "Содержание",
   "toc_cell": false,
   "toc_position": {
    "height": "calc(100% - 180px)",
    "left": "10px",
    "top": "150px",
    "width": "297.6px"
   },
   "toc_section_display": true,
   "toc_window_display": true
  }
 },
 "nbformat": 4,
 "nbformat_minor": 5
}
