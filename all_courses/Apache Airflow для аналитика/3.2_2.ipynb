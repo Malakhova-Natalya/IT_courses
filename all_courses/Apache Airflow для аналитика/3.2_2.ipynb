{
 "cells": [
  {
   "cell_type": "markdown",
   "id": "59953720",
   "metadata": {},
   "source": [
    "# Apache Airflow для аналитика"
   ]
  },
  {
   "cell_type": "markdown",
   "id": "65880c6a",
   "metadata": {},
   "source": [
    "# Решение примера на Airflow: практика"
   ]
  },
  {
   "cell_type": "markdown",
   "id": "acce4ec0",
   "metadata": {},
   "source": [
    "## Настройка Airflow"
   ]
  },
  {
   "cell_type": "code",
   "execution_count": 1,
   "id": "9ea73afb",
   "metadata": {},
   "outputs": [],
   "source": [
    "# Установка Airflow\n",
    "\n",
    "#!pip install apache-airflow==2.1.4\n",
    "#!pip install wtforms==2.3.3\n",
    "\n",
    "# Инициализация базы данных\n",
    "\n",
    "#!airflow db init"
   ]
  },
  {
   "cell_type": "code",
   "execution_count": 2,
   "id": "e6b1ae8e",
   "metadata": {},
   "outputs": [],
   "source": [
    "# Создадим необходимые папки\n",
    "\n",
    "#!mkdir /root/airflow/dags\n",
    "#!touch /root/airflow/dags/dag.py"
   ]
  },
  {
   "cell_type": "code",
   "execution_count": 3,
   "id": "3c2b3ca2",
   "metadata": {},
   "outputs": [],
   "source": [
    "# Включим веб-сервер\n",
    "\n",
    "#!airflow webserver -p 18273 -D"
   ]
  },
  {
   "cell_type": "code",
   "execution_count": 4,
   "id": "2b01d1b7",
   "metadata": {},
   "outputs": [],
   "source": [
    "# Последующие команды не имеют отношения к Airflow\n",
    "# Они нужны только для корректной работы веб морды\n",
    "# в среде Google Colab\n",
    "\n",
    "#!pip install pyngrok\n",
    "#!ngrok authtoken <> # найти его можно https://dashboard.ngrok.com/get-started/setup"
   ]
  },
  {
   "cell_type": "code",
   "execution_count": 5,
   "id": "8a6eae6c",
   "metadata": {},
   "outputs": [],
   "source": [
    "# Создадим пользователя Airflow\n",
    "\n",
    "#!airflow users create \\\n",
    "#          --username admin \\\n",
    "#          --firstname admin \\\n",
    "#          --lastname admin \\\n",
    "#          --role Admin \\\n",
    "#          --email admin@example.org \\\n",
    "#          -p 12345"
   ]
  },
  {
   "cell_type": "markdown",
   "id": "d999f884",
   "metadata": {},
   "source": [
    "Поместим в dag.py следующий код:"
   ]
  },
  {
   "cell_type": "code",
   "execution_count": 6,
   "id": "837b557f",
   "metadata": {},
   "outputs": [],
   "source": [
    "#from airflow import DAG\n",
    "#from datetime import timedelta\n",
    "#from airflow.utils.dates import days_ago\n",
    "#from airflow.operators.dummy_operator import DummyOperator\n",
    "\n",
    "#dag = DAG('dag',schedule_interval=timedelta(days=1), start_date=days_ago(1))\n",
    "#t1 = DummyOperator(task_id='task_1', dag=dag)\n",
    "#t2 = DummyOperator(task_id='task_2',dag=dag)\n",
    "#t3 = DummyOperator(task_id='task_3',dag=dag)\n",
    "#t4 = DummyOperator(task_id='task_4',dag=dag)\n",
    "#t5 = DummyOperator(task_id='task_5',dag=dag)\n",
    "#t6 = DummyOperator(task_id='task_6',dag=dag)\n",
    "#t7 = DummyOperator(task_id='task_7',dag=dag)"
   ]
  },
  {
   "cell_type": "code",
   "execution_count": 7,
   "id": "6106d1d8",
   "metadata": {},
   "outputs": [],
   "source": [
    "# Запуск шедулера\n",
    "\n",
    "#!airflow scheduler -D"
   ]
  },
  {
   "cell_type": "code",
   "execution_count": 8,
   "id": "bf8bebf3",
   "metadata": {},
   "outputs": [],
   "source": [
    "# Эта команда просто отображет веб морду на другой адрес\n",
    "# Его вы можете найти https://dashboard.ngrok.com/cloud-edge/endpoints\n",
    "# При каждом отключении ссылка будет меняться\n",
    "\n",
    "#!nohup ngrok http 18273 > /dev/null &"
   ]
  },
  {
   "cell_type": "markdown",
   "id": "f673dad9",
   "metadata": {},
   "source": [
    "После запуска команды выше, перейдите по адресу в ngrok и подождите пока появится DAG с именем dag"
   ]
  },
  {
   "cell_type": "markdown",
   "id": "3b906334",
   "metadata": {},
   "source": [
    "## Задача"
   ]
  },
  {
   "cell_type": "markdown",
   "id": "d765ecab",
   "metadata": {},
   "source": [
    "Указать верные trigger_rule чтобы дочерние задачки отработали. Дочерние задачи это task_3, task_7. "
   ]
  },
  {
   "cell_type": "code",
   "execution_count": 10,
   "id": "0f7aa206",
   "metadata": {},
   "outputs": [],
   "source": [
    "from airflow import DAG\n",
    "from datetime import timedelta\n",
    "from airflow.utils.dates import days_ago\n",
    "from airflow.operators.python import PythonOperator\n",
    "from airflow.exceptions import AirflowSkipException, AirflowFailException\n",
    "\n",
    "dag = DAG('dag',\n",
    "          schedule_interval=timedelta(days=1),\n",
    "          start_date=days_ago(1))\n",
    "\n",
    "\n",
    "# Функция которая всегда верна\n",
    "def success():\n",
    "    pass\n",
    "\n",
    "# Функция которая скипает задачу\n",
    "def skip():\n",
    "    raise AirflowSkipException\n",
    "\n",
    "# Функция которая падает с ошибкой\n",
    "def failed():\n",
    "    raise AirflowFailException\n",
    "\n",
    "task_0 = PythonOperator(\n",
    "  task_id='task_0',\n",
    "  python_callable=success,\n",
    "  dag=dag\n",
    ")\n",
    "\n",
    "task_1 = PythonOperator(\n",
    "  task_id='task_1',\n",
    "  python_callable=skip,\n",
    "  dag=dag\n",
    ")\n",
    "\n",
    "task_2 = PythonOperator(\n",
    "  task_id='task_2',\n",
    "  python_callable=failed,\n",
    "  dag=dag\n",
    ")\n",
    "\n",
    "task_3 = PythonOperator(\n",
    "  task_id='task_3',\n",
    "  trigger_rule='all_done',\n",
    "  python_callable=lambda: print(\"Success\"),\n",
    "  dag=dag\n",
    ")\n",
    "\n",
    "[task_0, task_1, task_2] >> task_3\n",
    "\n",
    "\n",
    "\n",
    "task_4 = PythonOperator(\n",
    "  task_id='task_4',\n",
    "  python_callable=success,\n",
    "  dag=dag\n",
    ")\n",
    "\n",
    "task_5 = PythonOperator(\n",
    "  task_id='task_5',\n",
    "  python_callable=failed,\n",
    "  dag=dag\n",
    ")\n",
    "\n",
    "task_6 = PythonOperator(\n",
    "  task_id='task_6',\n",
    "  python_callable=failed,\n",
    "  dag=dag\n",
    ")\n",
    "\n",
    "task_7 = PythonOperator(\n",
    "  task_id='task_7',\n",
    "  python_callable=lambda: print(\"Success\"),\n",
    "  trigger_rule='one_failed',\n",
    "  dag=dag\n",
    ")\n",
    "\n",
    "[task_4, task_5,task_6] >> task_7"
   ]
  },
  {
   "cell_type": "markdown",
   "id": "ffd96ee6",
   "metadata": {},
   "source": [
    "Google Collab: https://colab.research.google.com/drive/1zAtUmDoIEI9GX7SaXuehMRUCW5aHnpYU"
   ]
  },
  {
   "cell_type": "markdown",
   "id": "d3806e43",
   "metadata": {},
   "source": [
    "\n",
    "_____________________________________________________________________________________________________________________________\n",
    "Проектную работу выполнила: аналитик данных Малахова Наталья\n",
    "\n",
    "Мой телеграм-канал: [Дневник аналитика](https://t.me/diary_musician_analyst \"Дневник аналитика\")\n",
    "\n",
    "GitHub: [GitHub](https://github.com/Malakhova-Natalya \"GitHub\")\n",
    "\n",
    "Habr: [Habr](https://habr.com/ru/users/Malakhova-Natalya/publications/articles/ \"Habr\")\n",
    "\n",
    "Спасибо за внимание!"
   ]
  }
 ],
 "metadata": {
  "kernelspec": {
   "display_name": "Python 3 (ipykernel)",
   "language": "python",
   "name": "python3"
  },
  "language_info": {
   "codemirror_mode": {
    "name": "ipython",
    "version": 3
   },
   "file_extension": ".py",
   "mimetype": "text/x-python",
   "name": "python",
   "nbconvert_exporter": "python",
   "pygments_lexer": "ipython3",
   "version": "3.9.7"
  },
  "toc": {
   "base_numbering": 1,
   "nav_menu": {},
   "number_sections": false,
   "sideBar": false,
   "skip_h1_title": false,
   "title_cell": "Содержание",
   "title_sidebar": "Содержание",
   "toc_cell": false,
   "toc_position": {},
   "toc_section_display": false,
   "toc_window_display": false
  }
 },
 "nbformat": 4,
 "nbformat_minor": 5
}
