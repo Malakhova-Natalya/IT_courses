{
 "cells": [
  {
   "cell_type": "markdown",
   "id": "59953720",
   "metadata": {},
   "source": [
    "# Apache Airflow для аналитика"
   ]
  },
  {
   "cell_type": "markdown",
   "id": "65880c6a",
   "metadata": {},
   "source": [
    "# Решение примера на Airflow: практика"
   ]
  },
  {
   "cell_type": "markdown",
   "id": "acce4ec0",
   "metadata": {},
   "source": [
    "## Настройка Airflow"
   ]
  },
  {
   "cell_type": "code",
   "execution_count": 1,
   "id": "9ea73afb",
   "metadata": {},
   "outputs": [],
   "source": [
    "# Установка Airflow\n",
    "\n",
    "#!pip install apache-airflow==2.1.4\n",
    "#!pip install wtforms==2.3.3\n",
    "\n",
    "# Инициализация базы данных\n",
    "\n",
    "#!airflow db init"
   ]
  },
  {
   "cell_type": "code",
   "execution_count": 2,
   "id": "e6b1ae8e",
   "metadata": {},
   "outputs": [],
   "source": [
    "# Создадим необходимые папки\n",
    "\n",
    "#!mkdir /root/airflow/dags\n",
    "#!touch /root/airflow/dags/dag.py"
   ]
  },
  {
   "cell_type": "code",
   "execution_count": 3,
   "id": "3c2b3ca2",
   "metadata": {},
   "outputs": [],
   "source": [
    "# Включим веб-сервер\n",
    "\n",
    "#!airflow webserver -p 18273 -D"
   ]
  },
  {
   "cell_type": "code",
   "execution_count": 4,
   "id": "2b01d1b7",
   "metadata": {},
   "outputs": [],
   "source": [
    "# Последующие команды не имеют отношения к Airflow\n",
    "# Они нужны только для корректной работы веб морды\n",
    "# в среде Google Colab\n",
    "\n",
    "#!pip install pyngrok\n",
    "#!ngrok authtoken <> # найти его можно https://dashboard.ngrok.com/get-started/setup"
   ]
  },
  {
   "cell_type": "code",
   "execution_count": 5,
   "id": "8a6eae6c",
   "metadata": {},
   "outputs": [],
   "source": [
    "# Создадим пользователя Airflow\n",
    "\n",
    "#!airflow users create \\\n",
    "#          --username admin \\\n",
    "#          --firstname admin \\\n",
    "#          --lastname admin \\\n",
    "#          --role Admin \\\n",
    "#          --email admin@example.org \\\n",
    "#          -p 12345"
   ]
  },
  {
   "cell_type": "markdown",
   "id": "d999f884",
   "metadata": {},
   "source": [
    "Поместим в dag.py следующий код:"
   ]
  },
  {
   "cell_type": "code",
   "execution_count": 6,
   "id": "837b557f",
   "metadata": {},
   "outputs": [],
   "source": [
    "#from airflow import DAG\n",
    "#from datetime import timedelta\n",
    "#from airflow.utils.dates import days_ago\n",
    "#from airflow.operators.dummy_operator import DummyOperator\n",
    "\n",
    "#dag = DAG('dag',schedule_interval=timedelta(days=1), start_date=days_ago(1))\n",
    "#t1 = DummyOperator(task_id='task_1', dag=dag)\n",
    "#t2 = DummyOperator(task_id='task_2',dag=dag)\n",
    "#t3 = DummyOperator(task_id='task_3',dag=dag)\n",
    "#t4 = DummyOperator(task_id='task_4',dag=dag)\n",
    "#t5 = DummyOperator(task_id='task_5',dag=dag)\n",
    "#t6 = DummyOperator(task_id='task_6',dag=dag)\n",
    "#t7 = DummyOperator(task_id='task_7',dag=dag)\n",
    "\n",
    "#[t1, t2]>>t5\n",
    "#t3>>t6\n",
    "#[t5,t6] >>  t7\n",
    "#t4"
   ]
  },
  {
   "cell_type": "code",
   "execution_count": 7,
   "id": "6106d1d8",
   "metadata": {},
   "outputs": [],
   "source": [
    "# Запуск шедулера\n",
    "\n",
    "#!airflow scheduler -D"
   ]
  },
  {
   "cell_type": "code",
   "execution_count": 8,
   "id": "bf8bebf3",
   "metadata": {},
   "outputs": [],
   "source": [
    "# Эта команда просто отображет веб морду на другой адрес\n",
    "# Его вы можете найти https://dashboard.ngrok.com/cloud-edge/endpoints\n",
    "# При каждом отключении ссылка будет меняться\n",
    "\n",
    "#!nohup ngrok http 18273 > /dev/null &"
   ]
  },
  {
   "cell_type": "markdown",
   "id": "f673dad9",
   "metadata": {},
   "source": [
    "После запуска команды выше, перейдите по адресу в ngrok и подождите пока появится DAG с именем dag"
   ]
  },
  {
   "cell_type": "markdown",
   "id": "3b906334",
   "metadata": {},
   "source": [
    "## Практика"
   ]
  },
  {
   "cell_type": "markdown",
   "id": "d765ecab",
   "metadata": {},
   "source": [
    "### Аргументы DAG"
   ]
  },
  {
   "cell_type": "markdown",
   "id": "7e9e5fcc",
   "metadata": {},
   "source": [
    "Вставим данный код в dag.py и посмотрим на главную страницу Airflow."
   ]
  },
  {
   "cell_type": "code",
   "execution_count": null,
   "id": "b10ccd70",
   "metadata": {},
   "outputs": [],
   "source": [
    "from airflow import DAG\n",
    "from datetime import timedelta\n",
    "from airflow.utils.dates import days_ago\n",
    "from airflow.operators.dummy_operator import DummyOperator\n",
    "\n",
    "# Создадим объект класса DAG\n",
    "dag = DAG('dag', schedule_interval=timedelta(days=1))\n",
    "\n",
    "# Создадим несколько шагов\n",
    "t1 = DummyOperator(task_id='echo_1', dag=dag)\n",
    "t2 = DummyOperator(task_id='echo_2', dag=dag)"
   ]
  },
  {
   "cell_type": "markdown",
   "id": "e0764f73",
   "metadata": {},
   "source": [
    "Задание #1\n",
    "\n",
    "Впишите текст полученной ошибки после airflow.exceptions.AirflowException:, без пробелов только текст\n",
    "\n",
    "Данная ошибка указывает на то что мы не задали стартовую дату, давайте это поправим."
   ]
  },
  {
   "cell_type": "code",
   "execution_count": null,
   "id": "d94f7105",
   "metadata": {},
   "outputs": [],
   "source": [
    "from airflow import DAG\n",
    "from datetime import timedelta\n",
    "from airflow.utils.dates import days_ago\n",
    "from airflow.operators.dummy_operator import DummyOperator\n",
    "\n",
    "# Создадим объект класса DAG\n",
    "dag = DAG('dag',\n",
    "          schedule_interval='@daily',\n",
    "          start_date=days_ago(1))\n",
    "\n",
    "# Создадим несколько шагов\n",
    "t1 = DummyOperator(task_id='echo_1', dag=dag)\n",
    "t2 = DummyOperator(task_id='echo_2', dag=dag)"
   ]
  },
  {
   "cell_type": "markdown",
   "id": "b9665f74",
   "metadata": {},
   "source": [
    "После перехода на главную страницу вы увидите что ошибка исчезла."
   ]
  },
  {
   "cell_type": "markdown",
   "id": "b0cbe0cb",
   "metadata": {},
   "source": [
    "### PythonOperator"
   ]
  },
  {
   "cell_type": "markdown",
   "id": "55825277",
   "metadata": {},
   "source": [
    "Пример использования оператора для запуска кода. Попробуем скачать файл из интернета.\n",
    "\n",
    "Задание #2\n",
    "\n",
    "Впишите полный путь до файла куда мы запишем данные, то что будет передано в аргумент f_name"
   ]
  },
  {
   "cell_type": "code",
   "execution_count": null,
   "id": "7a45f4fc",
   "metadata": {},
   "outputs": [],
   "source": [
    "from airflow import DAG\n",
    "from datetime import timedelta\n",
    "from airflow.utils.dates import days_ago\n",
    "from airflow.operators.python import PythonOperator\n",
    "\n",
    "import pandas as pd\n",
    "\n",
    "def f_callable(url, f_name):\n",
    "  data = pd.read_csv(url)\n",
    "  data.to_csv(f_name)\n",
    "\n",
    "with DAG('dag', schedule_interval=timedelta(days=1), start_date=days_ago(1)) as dag:\n",
    "  # Создадим оператор для исполнения python функции\n",
    "  t1 = PythonOperator(task_id='download_file',\n",
    "                      python_callable=f_callable,\n",
    "                      op_kwargs={'url': 'https://raw.githubusercontent.com/dm-novikov/stepik_airflow_course/main/data/data.csv',\n",
    "                                 'f_name': '/root/airflow/data.csv'})"
   ]
  },
  {
   "cell_type": "markdown",
   "id": "d3806e43",
   "metadata": {},
   "source": [
    "\n",
    "_____________________________________________________________________________________________________________________________\n",
    "Проектную работу выполнила: аналитик данных Малахова Наталья\n",
    "\n",
    "Мой телеграм-канал: [Дневник аналитика](https://t.me/diary_musician_analyst \"Дневник аналитика\")\n",
    "\n",
    "GitHub: [GitHub](https://github.com/Malakhova-Natalya \"GitHub\")\n",
    "\n",
    "Habr: [Habr](https://habr.com/ru/users/Malakhova-Natalya/publications/articles/ \"Habr\")\n",
    "\n",
    "Спасибо за внимание!"
   ]
  }
 ],
 "metadata": {
  "kernelspec": {
   "display_name": "Python 3 (ipykernel)",
   "language": "python",
   "name": "python3"
  },
  "language_info": {
   "codemirror_mode": {
    "name": "ipython",
    "version": 3
   },
   "file_extension": ".py",
   "mimetype": "text/x-python",
   "name": "python",
   "nbconvert_exporter": "python",
   "pygments_lexer": "ipython3",
   "version": "3.9.7"
  },
  "toc": {
   "base_numbering": 1,
   "nav_menu": {},
   "number_sections": false,
   "sideBar": false,
   "skip_h1_title": false,
   "title_cell": "Содержание",
   "title_sidebar": "Содержание",
   "toc_cell": false,
   "toc_position": {},
   "toc_section_display": false,
   "toc_window_display": false
  }
 },
 "nbformat": 4,
 "nbformat_minor": 5
}
