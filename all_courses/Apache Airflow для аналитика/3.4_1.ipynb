{
 "cells": [
  {
   "cell_type": "markdown",
   "id": "59953720",
   "metadata": {},
   "source": [
    "# Apache Airflow для аналитика"
   ]
  },
  {
   "cell_type": "markdown",
   "id": "65880c6a",
   "metadata": {},
   "source": [
    "# 3.4 Подробнее про код: xcom, контекст: Практика"
   ]
  },
  {
   "cell_type": "markdown",
   "id": "2c199dfa",
   "metadata": {},
   "source": [
    "Задание на понимание контекста задачи"
   ]
  },
  {
   "cell_type": "markdown",
   "id": "610d3cbf",
   "metadata": {},
   "source": [
    "Вставьте необходимый код в ячейки"
   ]
  },
  {
   "cell_type": "code",
   "execution_count": null,
   "id": "b138787b",
   "metadata": {},
   "outputs": [],
   "source": [
    "from airflow import DAG\n",
    "from airflow.operators.dummy_operator import DummyOperator\n",
    "from airflow.operators.python_operator import PythonOperator\n",
    "from datetime import datetime\n",
    "\n",
    "\n",
    "def my_func(hello, date, **context):\n",
    "  print(hello)\n",
    "  print(date)\n",
    "  print(<ВАШ КОД: Обратиться  через контекст к имени задачи>)\n",
    "\n",
    "\n",
    "with DAG('dag', schedule_interval='@daily',\n",
    "          start_date=<ВАШ КОД: 2021-01-01>,\n",
    "          end_date=<ВАШ КОД: 2021-01-10>) as dag:\n",
    "\n",
    "  python_task    = PythonOperator(\n",
    "    task_id='python_task',\n",
    "    python_callable=my_func,\n",
    "    op_kwargs= {\n",
    "      'hello': <ВАШ КОД: передать строку Hello World>,\n",
    "      'date': <ВАШ КОД: передать сюда дату запуска, через макрос>\n",
    "      }\n",
    "    )"
   ]
  },
  {
   "cell_type": "markdown",
   "id": "27496a8c",
   "metadata": {},
   "source": [
    "Решение:"
   ]
  },
  {
   "cell_type": "code",
   "execution_count": null,
   "id": "e4881980",
   "metadata": {},
   "outputs": [],
   "source": [
    "from airflow import DAG\n",
    "from airflow.operators.dummy_operator import DummyOperator\n",
    "from airflow.operators.python_operator import PythonOperator\n",
    "from datetime import datetime\n",
    "\n",
    "\n",
    "def my_func(hello, date, **context):\n",
    "  print(hello)\n",
    "  print(date)\n",
    "  print(context[\"task_id\"]) # Обращаемся  через контекст к имени задачи\n",
    "\n",
    "\n",
    "with DAG('dag', schedule_interval='@daily',\n",
    "          start_date=datetime.fromisoformat('2021-01-01'),\n",
    "          end_date=datetime.fromisoformat('2021-01-10')) as dag:\n",
    "\n",
    "  python_task    = PythonOperator(\n",
    "    task_id='python_task',\n",
    "    python_callable=my_func,\n",
    "    op_kwargs= {\n",
    "      'hello': \"Hello World\", # передаем строку Hello World\n",
    "      'date': {{ ds }}   # передаем сюда дату запуска через макрос\n",
    "      }\n",
    "    )"
   ]
  },
  {
   "cell_type": "markdown",
   "id": "ad6eed5b",
   "metadata": {},
   "source": [
    "Google Collab: https://colab.research.google.com/drive/1njfvbrGr_oB1gvvPalotqGhgly-Fo3h7?usp=sharing"
   ]
  },
  {
   "cell_type": "markdown",
   "id": "d3806e43",
   "metadata": {},
   "source": [
    "\n",
    "_____________________________________________________________________________________________________________________________\n",
    "Проектную работу выполнила: аналитик данных Малахова Наталья\n",
    "\n",
    "Мой телеграм-канал: [Дневник аналитика](https://t.me/diary_musician_analyst \"Дневник аналитика\")\n",
    "\n",
    "GitHub: [GitHub](https://github.com/Malakhova-Natalya \"GitHub\")\n",
    "\n",
    "Habr: [Habr](https://habr.com/ru/users/Malakhova-Natalya/publications/articles/ \"Habr\")\n",
    "\n",
    "Спасибо за внимание!"
   ]
  }
 ],
 "metadata": {
  "kernelspec": {
   "display_name": "Python 3 (ipykernel)",
   "language": "python",
   "name": "python3"
  },
  "language_info": {
   "codemirror_mode": {
    "name": "ipython",
    "version": 3
   },
   "file_extension": ".py",
   "mimetype": "text/x-python",
   "name": "python",
   "nbconvert_exporter": "python",
   "pygments_lexer": "ipython3",
   "version": "3.9.7"
  },
  "toc": {
   "base_numbering": 1,
   "nav_menu": {},
   "number_sections": false,
   "sideBar": false,
   "skip_h1_title": false,
   "title_cell": "Содержание",
   "title_sidebar": "Содержание",
   "toc_cell": false,
   "toc_position": {},
   "toc_section_display": false,
   "toc_window_display": false
  }
 },
 "nbformat": 4,
 "nbformat_minor": 5
}
