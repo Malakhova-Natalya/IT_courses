{
 "cells": [
  {
   "cell_type": "markdown",
   "id": "dfed1c31",
   "metadata": {},
   "source": [
    "# ClickHouse для аналитика"
   ]
  },
  {
   "cell_type": "markdown",
   "id": "b778aa62",
   "metadata": {},
   "source": [
    "## Ликбез по алгоритмам"
   ]
  },
  {
   "cell_type": "markdown",
   "id": "07ab161a",
   "metadata": {},
   "source": [
    "### "
   ]
  },
  {
   "cell_type": "markdown",
   "id": "6a414238",
   "metadata": {},
   "source": [
    "Вам дан массив целых чисел в переменной array, это пример который не является реальным!\n",
    "\n",
    "array = [1, 2, 3, 4, 5, 6, 7, 8, 9, 0 ...]\n",
    "\n",
    "\n",
    "Вам необходимо посчитать сумму, нельзя использовать функцию sum.  Для решения вам нужно пройтись по массиву чисел и посчитать сумму например с помощью for. Это важно для следующего шага.\n",
    "\n",
    "\n",
    "Sample Input:\n",
    "\n",
    "1 2 3\n",
    "\n",
    "\n",
    "Sample Output:\n",
    "\n",
    "6"
   ]
  },
  {
   "cell_type": "code",
   "execution_count": 9,
   "id": "71a65439",
   "metadata": {},
   "outputs": [
    {
     "name": "stdout",
     "output_type": "stream",
     "text": [
      "1 2 3\n",
      "6\n"
     ]
    }
   ],
   "source": [
    "array = list(map(int, input().split()))\n",
    "\n",
    "result = 0\n",
    "for i in array:\n",
    "    result += i\n",
    "\n",
    "print(result)"
   ]
  },
  {
   "cell_type": "markdown",
   "id": "40d92d75",
   "metadata": {},
   "source": [
    "### "
   ]
  },
  {
   "cell_type": "markdown",
   "id": "b4647656",
   "metadata": {},
   "source": [
    "Предлагаю вам такую задачу, воспользуйтесь [предыдущим алгоритмом](https://stepik.org/lesson/600619/step/7?unit=595698) и дополните его так, чтобы функция возвращала элемент, ближайший по значению к заданному (в большую сторону).\n",
    "\n",
    "\n",
    "В данной задаче нет пограничных случаев, можно их не разбирать, и в случае нахождения target в списке, все равно нужно вывести большее значение.\n",
    "\n",
    "def binary_search(arr, target):\n",
    "    ...\n",
    "    ...\n",
    "\n",
    "    return next_element\n",
    "Ваша задача только реализовать функцию \n",
    "\n",
    "Sample Input:\n",
    "\n",
    "1 3 5 7 9 11 13 15 17 19,8\n",
    "\n",
    "\n",
    "Sample Output:\n",
    "\n",
    "9"
   ]
  },
  {
   "cell_type": "code",
   "execution_count": 10,
   "id": "7729391f",
   "metadata": {},
   "outputs": [
    {
     "name": "stdout",
     "output_type": "stream",
     "text": [
      "1 3 5 7 9 11 13 15 17 19,8\n",
      "9\n"
     ]
    }
   ],
   "source": [
    "# Считывание данных 1 3 5 7 9 11 13 15 17 19,8\n",
    "arr, target = list(map(str, input().split(',')))\n",
    "\n",
    "# Разбиение\n",
    "arr = list(map(int, arr.split())) # Массив\n",
    "target = int(target) # Таргет\n",
    "\n",
    "def binary_search(arr, target):\n",
    "    low = 0\n",
    "    high = len(arr) - 1\n",
    "    while low <= high:\n",
    "        mid = (low + high) // 2\n",
    "        if arr[mid] == target:\n",
    "            return arr[mid+1]\n",
    "        elif arr[mid] < target:\n",
    "            low = mid + 1\n",
    "        else:\n",
    "            high = mid - 1\n",
    "    return arr[mid+1]\n",
    "\n",
    "\n",
    "print(binary_search(arr, target))"
   ]
  },
  {
   "cell_type": "markdown",
   "id": "dee02881",
   "metadata": {},
   "source": [
    "### "
   ]
  },
  {
   "cell_type": "markdown",
   "id": "7c03c0a7",
   "metadata": {},
   "source": [
    "Давайте потренируемся в использовании хеш таблиц и вспомним про сложность алгоритмов. Напишите функцию find_duplicates, которая принимает список целых чисел и возвращает список всех повторяющихся элементов в исходном списке, то есть тех элементов которых больше 1\n",
    "\n",
    "numbers = [1, 2, 3, 4, 4, 5, 6, 6, 7]\n",
    "\n",
    "\n",
    "duplicates = find_duplicates(numbers)\n",
    "\n",
    "print(duplicates)\n",
    "\n",
    "\n",
    "Вывод: \n",
    "\n",
    "4 6\n",
    "\n",
    "\n",
    "Чтобы решить данную задачу используйте dict, который является хеш таблицей в Python. Нельзя использовать дополнительные библиотеки и структуры, только стандартный Python!\n",
    "\n",
    "\n",
    "Sample Input:\n",
    "\n",
    "1 2 3 4 4 5 6 6 7\n",
    "\n",
    "\n",
    "Sample Output:\n",
    "\n",
    "4 6"
   ]
  },
  {
   "cell_type": "code",
   "execution_count": 11,
   "id": "46afb2bc",
   "metadata": {},
   "outputs": [
    {
     "name": "stdout",
     "output_type": "stream",
     "text": [
      "1 2 3 4 4 5 6 6 7\n",
      "4 6\n"
     ]
    }
   ],
   "source": [
    "# Считывание данных   1 2 3 4 4 5 6 6 7\n",
    "array = list(map(str, input().split()))\n",
    "\n",
    "def find_duplicates(numbers): # функция для поиска дубликатов\n",
    "    result = [] # подготавливаем пустой список\n",
    "    for n in numbers:  # перебираем введённые элементы \n",
    "        value=numbers.count(n)  # считаем кол-во вхождений элемента в список\n",
    "        if value >1:  # если кол-во вхождений больше 1\n",
    "            result.append(n)  # добавляем такой элемент в заготовленный список\n",
    "    return set(result)  # чтобы вывести результат без повторов, делаем результат множеством\n",
    "    \n",
    "        \n",
    "\n",
    "duplicates = find_duplicates(array) # применяем функцию\n",
    "print(' '.join(sorted(duplicates))) # выводим результат в отсортированном виде -это элементы, к-ые дублировались"
   ]
  },
  {
   "cell_type": "markdown",
   "id": "fe3ce19d",
   "metadata": {},
   "source": [
    "### "
   ]
  },
  {
   "cell_type": "markdown",
   "id": "f614f92c",
   "metadata": {},
   "source": [
    "Реализуйте алгоритм LEFT HASH JOIN. Это значит, что левая таблица будет выведена полностью, а правая - только если есть совпадение.  В итоге вы должны получить словарь, в котором ключами будут данные из левой таблицы, а значениями данные из правой таблицы; если совпадения не было найдено, то в значении должно лежать 'default'.\n",
    "\n",
    "\n",
    "В переменной left лежит список, в right лежит словарь, где ключи совпадают с данными списка.\n",
    "\n",
    "\n",
    "Вывод на печать в формате ключ: значение, пример дан ниже. Подсказка - необязательно прям формировать словарь, можно сразу выводить на печать. Задание простое, не усложняйте!\n",
    "\n",
    "\n",
    "Sample Input:\n",
    "\n",
    "\n",
    "    a b c d,b:1 c:2 d:3\n",
    "\n",
    "\n",
    "Sample Output:\n",
    "\n",
    "\n",
    "    a:default\n",
    "    b:1\n",
    "    c:2\n",
    "    d:3"
   ]
  },
  {
   "cell_type": "code",
   "execution_count": 28,
   "id": "1c9d44b6",
   "metadata": {},
   "outputs": [
    {
     "name": "stdout",
     "output_type": "stream",
     "text": [
      "a b c d,b:1 c:2 d:3\n",
      "a:default\n",
      "b:1\n",
      "c:2\n",
      "d:3\n"
     ]
    }
   ],
   "source": [
    "# Считывание данных\n",
    "left, right = list(map(str, input().split(',')))\n",
    "\n",
    "# Разбиение\n",
    "left = list(map(str, left.split())) # Левая таблица, тут лежит массив строк\n",
    "right = dict(map(lambda x: x.split(':'), right.split())) # Правая таблица, тут лежит словарь, хеш таблица\n",
    "\n",
    "for i in left:\n",
    "    if i not in right:\n",
    "        print(f'{i}:default')\n",
    "    else:\n",
    "        for key,value in right.items():\n",
    "            if i==key:\n",
    "                print(f'{i}:{value}')\n"
   ]
  },
  {
   "cell_type": "markdown",
   "id": "d3806e43",
   "metadata": {},
   "source": [
    "___________________________________________________________________________________________________________________________\n",
    "Заметки вела: аналитик данных Малахова Наталья\n",
    "\n",
    "Мой телеграм-канал: [Дневник аналитика](https://t.me/diary_musician_analyst \"Дневник аналитика\")\n",
    "\n",
    "Портфолио: [GitHub](https://github.com/Malakhova-Natalya \"GitHub\")\n",
    "\n",
    "Хабр: [Habr](https://habr.com/ru/users/Malakhova-Natalya/publications/articles/ \"Habr\")\n",
    "\n",
    "\n",
    "Спасибо за внимание!"
   ]
  }
 ],
 "metadata": {
  "kernelspec": {
   "display_name": "Python 3 (ipykernel)",
   "language": "python",
   "name": "python3"
  },
  "language_info": {
   "codemirror_mode": {
    "name": "ipython",
    "version": 3
   },
   "file_extension": ".py",
   "mimetype": "text/x-python",
   "name": "python",
   "nbconvert_exporter": "python",
   "pygments_lexer": "ipython3",
   "version": "3.9.7"
  },
  "toc": {
   "base_numbering": 1,
   "nav_menu": {},
   "number_sections": true,
   "sideBar": true,
   "skip_h1_title": true,
   "title_cell": "Содержание",
   "title_sidebar": "Содержание",
   "toc_cell": false,
   "toc_position": {},
   "toc_section_display": true,
   "toc_window_display": true
  }
 },
 "nbformat": 4,
 "nbformat_minor": 5
}
