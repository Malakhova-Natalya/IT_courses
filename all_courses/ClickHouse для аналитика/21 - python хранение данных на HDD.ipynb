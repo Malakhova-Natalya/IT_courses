{
 "cells": [
  {
   "cell_type": "markdown",
   "id": "dfed1c31",
   "metadata": {},
   "source": [
    "# ClickHouse для аналитика"
   ]
  },
  {
   "cell_type": "markdown",
   "id": "b778aa62",
   "metadata": {},
   "source": [
    "## Хранение данных на диске"
   ]
  },
  {
   "cell_type": "markdown",
   "id": "07ab161a",
   "metadata": {},
   "source": [
    "### "
   ]
  },
  {
   "cell_type": "markdown",
   "id": "5095dc84",
   "metadata": {},
   "source": [
    "В данном задании, вам необходимо перевернуть строко-ориентированную таблицу, в столбцово-ориентированную таблицу (транспонировать), после чего посчитать сумму по первому столбцу. На данном примере вы сможете увидеть при столбцово ориантированной матрице проще применять различные функции агрегации.\n",
    "\n",
    "\n",
    "Входные данные\n",
    "\n",
    "\n",
    "    matrix_list = [\n",
    "        [1, a, aa],\n",
    "        [4, b, bb],\n",
    "        [7, c, cc]\n",
    "    ]\n",
    "\n",
    "\n",
    "Выходная матрица\n",
    "\n",
    "\n",
    "    matrix_col = [\n",
    "        [1, 4, 7],\n",
    "        [a, b, c],\n",
    "        [aa, bb, cc]\n",
    "    ]\n",
    "    \n",
    "Sample Input:\n",
    "\n",
    "    1 a aa 4 b bb 7 c cc\n",
    "\n",
    "\n",
    "Sample Output:\n",
    "\n",
    "    12"
   ]
  },
  {
   "cell_type": "code",
   "execution_count": 19,
   "id": "7a1b8b3d",
   "metadata": {},
   "outputs": [
    {
     "name": "stdout",
     "output_type": "stream",
     "text": [
      "1 a aa 4 b bb 7 c cc\n",
      "12\n"
     ]
    }
   ],
   "source": [
    "matrix_list = list(map(str, input().split()))\n",
    "size = 3\n",
    "matrix = [matrix_list[i:i+size] for i in range(0, len(matrix_list), size)]\n",
    "\n",
    "transposed_matrix = tuple(zip(*matrix[::-1])) # поворачиваем матрицу\n",
    "   \n",
    "print(sum(list(map(int, transposed_matrix[0]))))  # считаем сумму по первому столбцу в повернутой матрице"
   ]
  },
  {
   "cell_type": "markdown",
   "id": "cb60ceb4",
   "metadata": {},
   "source": [
    "### "
   ]
  },
  {
   "cell_type": "markdown",
   "id": "053d9d10",
   "metadata": {},
   "source": [
    "Предлагаю вам решить задачу на сжатие данных. Вам передается строка вида AAaa вам необходимо написать алгоритм сжатия данных и получить A2a2\n",
    "\n",
    "\n",
    "Sample Input:\n",
    "\n",
    "    AaaAAAAA\n",
    "    \n",
    "    \n",
    "Sample Output:\n",
    "\n",
    "    Aa2A5"
   ]
  },
  {
   "cell_type": "code",
   "execution_count": 69,
   "id": "07f162c8",
   "metadata": {},
   "outputs": [
    {
     "name": "stdout",
     "output_type": "stream",
     "text": [
      "AaaAAAAA\n",
      "Aa2A5\n"
     ]
    }
   ],
   "source": [
    "text = str(input())\n",
    "\n",
    "\n",
    "def compress_text(input_text):\n",
    "    txt=[]\n",
    "    cnt=1\n",
    "    for i in range(len(input_text)):\n",
    "        if i==(len(input_text)-1):\n",
    "            txt.append(input_text[i]+str(cnt))\n",
    "        else:\n",
    "            if input_text[i]==input_text[i+1]:\n",
    "                cnt+=1\n",
    "            else:\n",
    "                txt.append(input_text[i]+str(cnt))\n",
    "                cnt=1\n",
    "    compressed_text = (\"\".join(txt)).replace('1','') \n",
    "    return compressed_text\n",
    "\n",
    "print(compress_text(text))"
   ]
  },
  {
   "cell_type": "markdown",
   "id": "d3806e43",
   "metadata": {},
   "source": [
    "___________________________________________________________________________________________________________________________\n",
    "Заметки вела: аналитик данных Малахова Наталья\n",
    "\n",
    "Мой телеграм-канал: [Дневник аналитика](https://t.me/diary_musician_analyst \"Дневник аналитика\")\n",
    "\n",
    "Портфолио: [GitHub](https://github.com/Malakhova-Natalya \"GitHub\")\n",
    "\n",
    "Хабр: [Habr](https://habr.com/ru/users/Malakhova-Natalya/publications/articles/ \"Habr\")\n",
    "\n",
    "\n",
    "Спасибо за внимание!"
   ]
  }
 ],
 "metadata": {
  "kernelspec": {
   "display_name": "Python 3 (ipykernel)",
   "language": "python",
   "name": "python3"
  },
  "language_info": {
   "codemirror_mode": {
    "name": "ipython",
    "version": 3
   },
   "file_extension": ".py",
   "mimetype": "text/x-python",
   "name": "python",
   "nbconvert_exporter": "python",
   "pygments_lexer": "ipython3",
   "version": "3.9.7"
  },
  "toc": {
   "base_numbering": 1,
   "nav_menu": {},
   "number_sections": true,
   "sideBar": true,
   "skip_h1_title": true,
   "title_cell": "Содержание",
   "title_sidebar": "Содержание",
   "toc_cell": false,
   "toc_position": {
    "height": "calc(100% - 180px)",
    "left": "10px",
    "top": "150px",
    "width": "297.6px"
   },
   "toc_section_display": true,
   "toc_window_display": true
  }
 },
 "nbformat": 4,
 "nbformat_minor": 5
}
