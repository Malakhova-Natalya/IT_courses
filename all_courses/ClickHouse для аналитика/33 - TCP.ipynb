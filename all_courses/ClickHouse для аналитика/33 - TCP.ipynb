{
 "cells": [
  {
   "cell_type": "markdown",
   "id": "dfed1c31",
   "metadata": {},
   "source": [
    "# ClickHouse для аналитика"
   ]
  },
  {
   "cell_type": "markdown",
   "id": "b778aa62",
   "metadata": {},
   "source": [
    "## Интерфейсы доступа: TCP"
   ]
  },
  {
   "cell_type": "markdown",
   "id": "7b0a93b0",
   "metadata": {},
   "source": [
    "### Пример"
   ]
  },
  {
   "cell_type": "markdown",
   "id": "de3cba43",
   "metadata": {},
   "source": [
    "Для начала установим библиотеку и импортируем"
   ]
  },
  {
   "cell_type": "code",
   "execution_count": 1,
   "id": "c42edda7",
   "metadata": {},
   "outputs": [
    {
     "name": "stdout",
     "output_type": "stream",
     "text": [
      "Requirement already satisfied: clickhouse-driver in c:\\users\\natalya_py\\anaconda3\\lib\\site-packages (0.2.7)\n",
      "Requirement already satisfied: pytz in c:\\users\\natalya_py\\anaconda3\\lib\\site-packages (from clickhouse-driver) (2021.3)\n",
      "Requirement already satisfied: tzlocal in c:\\users\\natalya_py\\anaconda3\\lib\\site-packages (from clickhouse-driver) (5.2)\n",
      "Requirement already satisfied: tzdata in c:\\users\\natalya_py\\anaconda3\\lib\\site-packages (from tzlocal->clickhouse-driver) (2024.1)\n"
     ]
    }
   ],
   "source": [
    "!pip install clickhouse-driver"
   ]
  },
  {
   "cell_type": "code",
   "execution_count": 2,
   "id": "cd7d1ea0",
   "metadata": {},
   "outputs": [],
   "source": [
    "from clickhouse_driver import Client"
   ]
  },
  {
   "cell_type": "markdown",
   "id": "7479d72b",
   "metadata": {},
   "source": [
    "Подключимся и напишем простой SQL запрос"
   ]
  },
  {
   "cell_type": "code",
   "execution_count": 3,
   "id": "5f1b0524",
   "metadata": {},
   "outputs": [],
   "source": [
    "#client = Client(host='localhost', user='default', password='')\n",
    "#client.execute('SELECT 1')"
   ]
  },
  {
   "cell_type": "markdown",
   "id": "e5d114a4",
   "metadata": {},
   "source": [
    "Здесь получаем ошибку, так как через Docker происходит всё как-то иначе и идёт отказ в подключении к 9000 порту. \n",
    "\n",
    "    Failed to connect to localhost:9000\n",
    "    ...\n",
    "    NetworkError: Code: 210. Подключение не установлено, т.к. конечный компьютер отверг запрос на подключение (localhost:9000)\n",
    "\n",
    "Поэтому задание выполнено в Google Collab - там ClickHouse устанавливается без Docker и всё работает."
   ]
  },
  {
   "cell_type": "code",
   "execution_count": 4,
   "id": "8d2bf2ca",
   "metadata": {},
   "outputs": [],
   "source": [
    "#Теперь напишем Python код который делает тоже самое, и создает таблицу."
   ]
  },
  {
   "cell_type": "code",
   "execution_count": 5,
   "id": "7702c9d2",
   "metadata": {},
   "outputs": [],
   "source": [
    "#client.execute('CREATE TABLE my_table (id Int64, desc String) ENGINE = Log')"
   ]
  },
  {
   "cell_type": "code",
   "execution_count": 6,
   "id": "aaa72c52",
   "metadata": {},
   "outputs": [],
   "source": [
    "#Теперь вставим данные в эту таблицу"
   ]
  },
  {
   "cell_type": "code",
   "execution_count": 7,
   "id": "16581fc2",
   "metadata": {},
   "outputs": [],
   "source": [
    "#client.execute('INSERT INTO my_table (*) VALUES', [{'id': 1, 'desc': 'text'}, {'id': 2, 'desc': 'text2'}])"
   ]
  },
  {
   "cell_type": "code",
   "execution_count": 8,
   "id": "1731d4fd",
   "metadata": {},
   "outputs": [],
   "source": [
    "#Теперь напишем запрос который выведет полученную таблицу"
   ]
  },
  {
   "cell_type": "code",
   "execution_count": 9,
   "id": "f1d7be92",
   "metadata": {},
   "outputs": [],
   "source": [
    "#client.execute('select * from my_table')"
   ]
  },
  {
   "cell_type": "markdown",
   "id": "11c67c1f",
   "metadata": {},
   "source": [
    "Ссылка на Google Collab: https://colab.research.google.com/drive/1ngFS3Q3sWStsZafAJ8rm70ttf3jToVFG?usp=sharing&authuser=1#scrollTo=ArH4cYBoTWNv"
   ]
  },
  {
   "cell_type": "markdown",
   "id": "5f924aa9",
   "metadata": {},
   "source": [
    "### Описание задачи"
   ]
  },
  {
   "cell_type": "markdown",
   "id": "d54b79dc",
   "metadata": {},
   "source": [
    "**Описание задачи:**\n",
    "\n",
    "В данном уроке вам предстоит загрузить в Clickhouse CSV файл с помощью clickhouse-driver! При решении вы столкнетесь с проблемой конвертации типов данных. Это можно обойти использовав такой подход\n",
    "\n",
    "    select * from url( ... )\n",
    "Тем не менее есть вариант решения задачи только через Python код. Будет принято любое решение.\n",
    "\n",
    "**Формат ответа:**\n",
    "\n",
    "В качестве ответа прислать sum(value) округлить до целых в любую сторону\n",
    "\n",
    "Прим: ссылка на CSV файл: https://stepik.org/media/attachments/course/100210/csvjson.csv"
   ]
  },
  {
   "cell_type": "markdown",
   "id": "6266fbe4",
   "metadata": {},
   "source": [
    "### Решение"
   ]
  },
  {
   "cell_type": "markdown",
   "id": "3ca1fe34",
   "metadata": {},
   "source": [
    "Ссылка на Google Collab с выполненным заданием: https://colab.research.google.com/drive/1m_qpkrDGN8slEQFcyk2rL_IiKwOboNDT?authuser=1#scrollTo=ArH4cYBoTWNv"
   ]
  },
  {
   "cell_type": "markdown",
   "id": "d3806e43",
   "metadata": {},
   "source": [
    "___________________________________________________________________________________________________________________________\n",
    "Заметки вела: аналитик данных Малахова Наталья\n",
    "\n",
    "Мой телеграм-канал: [Дневник аналитика](https://t.me/diary_musician_analyst \"Дневник аналитика\")\n",
    "\n",
    "Портфолио: [GitHub](https://github.com/Malakhova-Natalya \"GitHub\")\n",
    "\n",
    "Хабр: [Habr](https://habr.com/ru/users/Malakhova-Natalya/publications/articles/ \"Habr\")\n",
    "\n",
    "\n",
    "Спасибо за внимание!"
   ]
  }
 ],
 "metadata": {
  "kernelspec": {
   "display_name": "Python 3 (ipykernel)",
   "language": "python",
   "name": "python3"
  },
  "language_info": {
   "codemirror_mode": {
    "name": "ipython",
    "version": 3
   },
   "file_extension": ".py",
   "mimetype": "text/x-python",
   "name": "python",
   "nbconvert_exporter": "python",
   "pygments_lexer": "ipython3",
   "version": "3.9.7"
  },
  "toc": {
   "base_numbering": 1,
   "nav_menu": {},
   "number_sections": true,
   "sideBar": true,
   "skip_h1_title": true,
   "title_cell": "Содержание",
   "title_sidebar": "Содержание",
   "toc_cell": false,
   "toc_position": {
    "height": "calc(100% - 180px)",
    "left": "10px",
    "top": "150px",
    "width": "297.6px"
   },
   "toc_section_display": true,
   "toc_window_display": true
  }
 },
 "nbformat": 4,
 "nbformat_minor": 5
}
